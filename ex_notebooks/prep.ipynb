{
 "cells": [
  {
   "cell_type": "markdown",
   "id": "7f368ace",
   "metadata": {
    "papermill": {
     "duration": 0.002127,
     "end_time": "2025-06-18T13:18:27.099009",
     "exception": false,
     "start_time": "2025-06-18T13:18:27.096882",
     "status": "completed"
    },
    "tags": []
   },
   "source": [
    "## Import Libraries"
   ]
  },
  {
   "cell_type": "code",
   "execution_count": 1,
   "id": "1ec9c2a9",
   "metadata": {
    "execution": {
     "iopub.execute_input": "2025-06-18T13:18:27.099009Z",
     "iopub.status.busy": "2025-06-18T13:18:27.099009Z",
     "iopub.status.idle": "2025-06-18T13:18:27.145949Z",
     "shell.execute_reply": "2025-06-18T13:18:27.145949Z"
    },
    "papermill": {
     "duration": 0.04694,
     "end_time": "2025-06-18T13:18:27.145949",
     "exception": false,
     "start_time": "2025-06-18T13:18:27.099009",
     "status": "completed"
    },
    "tags": []
   },
   "outputs": [],
   "source": [
    "import yaml\n",
    "import os"
   ]
  },
  {
   "cell_type": "code",
   "execution_count": 2,
   "id": "b16f3d8b",
   "metadata": {
    "execution": {
     "iopub.execute_input": "2025-06-18T13:18:27.149835Z",
     "iopub.status.busy": "2025-06-18T13:18:27.149835Z",
     "iopub.status.idle": "2025-06-18T13:18:27.156582Z",
     "shell.execute_reply": "2025-06-18T13:18:27.156582Z"
    },
    "papermill": {
     "duration": 0.006747,
     "end_time": "2025-06-18T13:18:27.156582",
     "exception": false,
     "start_time": "2025-06-18T13:18:27.149835",
     "status": "completed"
    },
    "tags": []
   },
   "outputs": [],
   "source": [
    "os.chdir(\"..\")\n"
   ]
  },
  {
   "cell_type": "code",
   "execution_count": 3,
   "id": "71050cd5",
   "metadata": {
    "execution": {
     "iopub.execute_input": "2025-06-18T13:18:27.156582Z",
     "iopub.status.busy": "2025-06-18T13:18:27.156582Z",
     "iopub.status.idle": "2025-06-18T13:18:27.168891Z",
     "shell.execute_reply": "2025-06-18T13:18:27.168891Z"
    },
    "papermill": {
     "duration": 0.013318,
     "end_time": "2025-06-18T13:18:27.169900",
     "exception": false,
     "start_time": "2025-06-18T13:18:27.156582",
     "status": "completed"
    },
    "tags": []
   },
   "outputs": [
    {
     "data": {
      "text/plain": [
       "'D:\\\\Projects\\\\AI_projects\\\\safety_helmet'"
      ]
     },
     "execution_count": 3,
     "metadata": {},
     "output_type": "execute_result"
    }
   ],
   "source": [
    "os.getcwd()"
   ]
  },
  {
   "cell_type": "markdown",
   "id": "ee062d71",
   "metadata": {
    "papermill": {
     "duration": 0.002001,
     "end_time": "2025-06-18T13:18:27.173934",
     "exception": false,
     "start_time": "2025-06-18T13:18:27.171933",
     "status": "completed"
    },
    "tags": []
   },
   "source": [
    "## EDA"
   ]
  },
  {
   "cell_type": "code",
   "execution_count": 4,
   "id": "0d29d798",
   "metadata": {
    "execution": {
     "iopub.execute_input": "2025-06-18T13:18:27.178900Z",
     "iopub.status.busy": "2025-06-18T13:18:27.177934Z",
     "iopub.status.idle": "2025-06-18T13:18:27.184053Z",
     "shell.execute_reply": "2025-06-18T13:18:27.183525Z"
    },
    "papermill": {
     "duration": 0.009131,
     "end_time": "2025-06-18T13:18:27.185065",
     "exception": false,
     "start_time": "2025-06-18T13:18:27.175934",
     "status": "completed"
    },
    "tags": []
   },
   "outputs": [],
   "source": [
    "with open(r\"safety-helmet-1\\data.yaml\", \"r\") as f:\n",
    "    data = yaml.safe_load(f)\n",
    "    "
   ]
  },
  {
   "cell_type": "code",
   "execution_count": 5,
   "id": "56d57ef6",
   "metadata": {
    "execution": {
     "iopub.execute_input": "2025-06-18T13:18:27.190095Z",
     "iopub.status.busy": "2025-06-18T13:18:27.189064Z",
     "iopub.status.idle": "2025-06-18T13:18:27.194059Z",
     "shell.execute_reply": "2025-06-18T13:18:27.194059Z"
    },
    "papermill": {
     "duration": 0.008001,
     "end_time": "2025-06-18T13:18:27.195065",
     "exception": false,
     "start_time": "2025-06-18T13:18:27.187064",
     "status": "completed"
    },
    "tags": []
   },
   "outputs": [
    {
     "data": {
      "text/plain": [
       "{'train': '../train/images',\n",
       " 'val': '../valid/images',\n",
       " 'test': '../test/images',\n",
       " 'nc': 2,\n",
       " 'names': ['helm', 'no-helm'],\n",
       " 'roboflow': {'workspace': 'mohamed-gcajq',\n",
       "  'project': 'safety-helmet-q3b8o-eilxb',\n",
       "  'version': 2,\n",
       "  'license': 'CC BY 4.0',\n",
       "  'url': 'https://universe.roboflow.com/mohamed-gcajq/safety-helmet-q3b8o-eilxb/dataset/2'}}"
      ]
     },
     "execution_count": 5,
     "metadata": {},
     "output_type": "execute_result"
    }
   ],
   "source": [
    "data"
   ]
  },
  {
   "cell_type": "code",
   "execution_count": 6,
   "id": "da6b95c2",
   "metadata": {
    "execution": {
     "iopub.execute_input": "2025-06-18T13:18:27.199194Z",
     "iopub.status.busy": "2025-06-18T13:18:27.199194Z",
     "iopub.status.idle": "2025-06-18T13:18:27.204839Z",
     "shell.execute_reply": "2025-06-18T13:18:27.204839Z"
    },
    "papermill": {
     "duration": 0.007771,
     "end_time": "2025-06-18T13:18:27.204839",
     "exception": false,
     "start_time": "2025-06-18T13:18:27.197068",
     "status": "completed"
    },
    "tags": []
   },
   "outputs": [
    {
     "data": {
      "text/plain": [
       "2"
      ]
     },
     "execution_count": 6,
     "metadata": {},
     "output_type": "execute_result"
    }
   ],
   "source": [
    "data[\"nc\"]"
   ]
  },
  {
   "cell_type": "code",
   "execution_count": 7,
   "id": "94a99ae0",
   "metadata": {
    "execution": {
     "iopub.execute_input": "2025-06-18T13:18:27.204839Z",
     "iopub.status.busy": "2025-06-18T13:18:27.204839Z",
     "iopub.status.idle": "2025-06-18T13:18:27.217109Z",
     "shell.execute_reply": "2025-06-18T13:18:27.216804Z"
    },
    "papermill": {
     "duration": 0.013523,
     "end_time": "2025-06-18T13:18:27.218362",
     "exception": false,
     "start_time": "2025-06-18T13:18:27.204839",
     "status": "completed"
    },
    "tags": []
   },
   "outputs": [
    {
     "name": "stdout",
     "output_type": "stream",
     "text": [
      "number classes: 2\n"
     ]
    }
   ],
   "source": [
    "print(\"number classes:\", data[\"nc\"])"
   ]
  },
  {
   "cell_type": "code",
   "execution_count": null,
   "id": "a89dd297",
   "metadata": {
    "papermill": {
     "duration": 0.002036,
     "end_time": "2025-06-18T13:18:27.222646",
     "exception": false,
     "start_time": "2025-06-18T13:18:27.220610",
     "status": "completed"
    },
    "tags": []
   },
   "outputs": [],
   "source": []
  }
 ],
 "metadata": {
  "kernelspec": {
   "display_name": "env",
   "language": "python",
   "name": "python3"
  },
  "language_info": {
   "codemirror_mode": {
    "name": "ipython",
    "version": 3
   },
   "file_extension": ".py",
   "mimetype": "text/x-python",
   "name": "python",
   "nbconvert_exporter": "python",
   "pygments_lexer": "ipython3",
   "version": "3.11.11"
  },
  "papermill": {
   "default_parameters": {},
   "duration": 2.263385,
   "end_time": "2025-06-18T13:18:27.448174",
   "environment_variables": {},
   "exception": null,
   "input_path": "prep.ipynb",
   "output_path": "..\\ex_notebooks\\prep.ipynb",
   "parameters": {},
   "start_time": "2025-06-18T13:18:25.184789",
   "version": "2.6.0"
  }
 },
 "nbformat": 4,
 "nbformat_minor": 5
}